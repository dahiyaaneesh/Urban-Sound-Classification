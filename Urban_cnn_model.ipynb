{
 "cells": [
  {
   "cell_type": "code",
   "execution_count": 1,
   "metadata": {
    "ExecuteTime": {
     "end_time": "2020-10-06T12:20:21.595362Z",
     "start_time": "2020-10-06T12:20:21.592726Z"
    },
    "colab": {},
    "colab_type": "code",
    "id": "tA_zGJTRf_gC"
   },
   "outputs": [],
   "source": [
    "import numpy as np"
   ]
  },
  {
   "cell_type": "code",
   "execution_count": 2,
   "metadata": {
    "ExecuteTime": {
     "end_time": "2020-10-06T12:20:26.301829Z",
     "start_time": "2020-10-06T12:20:22.770400Z"
    },
    "colab": {},
    "colab_type": "code",
    "id": "5uRr-bWZWzAD"
   },
   "outputs": [],
   "source": [
    "#extracting data from csv files into numpy arrays\n",
    "from numpy import genfromtxt\n",
    "x_train = genfromtxt('train_data.csv', delimiter=',')\n",
    "y_train = genfromtxt('train_labels.csv', delimiter=',')\n",
    "x_test = genfromtxt('test_data.csv', delimiter=',')\n",
    "y_test = genfromtxt('test_labels.csv', delimiter=',')"
   ]
  },
  {
   "cell_type": "code",
   "execution_count": null,
   "metadata": {},
   "outputs": [],
   "source": []
  },
  {
   "cell_type": "code",
   "execution_count": 4,
   "metadata": {
    "colab": {
     "base_uri": "https://localhost:8080/",
     "height": 34
    },
    "colab_type": "code",
    "id": "sUE1btJWW3bw",
    "outputId": "f74bc8b1-fee5-4efd-b851-b2337f69afb9"
   },
   "outputs": [
    {
     "data": {
      "text/plain": [
       "((7895, 180), (837, 180), (7895,), (837,))"
      ]
     },
     "execution_count": 4,
     "metadata": {},
     "output_type": "execute_result"
    }
   ],
   "source": [
    "#shape\n",
    "x_train.shape,x_test.shape,y_train.shape,y_test.shape"
   ]
  },
  {
   "cell_type": "code",
   "execution_count": 5,
   "metadata": {
    "ExecuteTime": {
     "end_time": "2020-10-06T12:22:55.912617Z",
     "start_time": "2020-10-06T12:21:01.420215Z"
    },
    "tags": []
   },
   "outputs": [
    {
     "name": "stdout",
     "output_type": "stream",
     "text": [
      "Collecting tensorflow\n",
      "  Downloading tensorflow-2.3.1-cp36-cp36m-manylinux2010_x86_64.whl (320.4 MB)\n",
      "\u001b[K     |████████████████████████████████| 320.4 MB 40 kB/s  eta 0:00:01   |▋                               | 6.4 MB 5.7 MB/s eta 0:00:55\n",
      "\u001b[?25hCollecting tensorflow-estimator<2.4.0,>=2.3.0\n",
      "  Downloading tensorflow_estimator-2.3.0-py2.py3-none-any.whl (459 kB)\n",
      "\u001b[K     |████████████████████████████████| 459 kB 4.4 MB/s eta 0:00:01\n",
      "\u001b[?25hCollecting protobuf>=3.9.2\n",
      "  Using cached protobuf-3.13.0-cp36-cp36m-manylinux1_x86_64.whl (1.3 MB)\n",
      "Processing /home/aneesh/.cache/pip/wheels/32/42/7f/23cae9ff6ef66798d00dc5d659088e57dbba01566f6c60db63/wrapt-1.12.1-py3-none-any.whl\n",
      "Collecting tensorboard<3,>=2.3.0\n",
      "  Downloading tensorboard-2.3.0-py3-none-any.whl (6.8 MB)\n",
      "\u001b[K     |████████████████████████████████| 6.8 MB 3.2 MB/s eta 0:00:01\n",
      "\u001b[?25hCollecting wheel>=0.26\n",
      "  Using cached wheel-0.35.1-py2.py3-none-any.whl (33 kB)\n",
      "Requirement already satisfied: h5py<2.11.0,>=2.10.0 in /home/aneesh/Documents/work/barix/lib/python3.6/site-packages (from tensorflow) (2.10.0)\n",
      "Collecting google-pasta>=0.1.8\n",
      "  Using cached google_pasta-0.2.0-py3-none-any.whl (57 kB)\n",
      "Collecting absl-py>=0.7.0\n",
      "  Using cached absl_py-0.10.0-py3-none-any.whl (127 kB)\n",
      "Collecting grpcio>=1.8.6\n",
      "  Using cached grpcio-1.32.0-cp36-cp36m-manylinux2014_x86_64.whl (3.8 MB)\n",
      "Collecting astunparse==1.6.3\n",
      "  Using cached astunparse-1.6.3-py2.py3-none-any.whl (12 kB)\n",
      "Collecting gast==0.3.3\n",
      "  Using cached gast-0.3.3-py2.py3-none-any.whl (9.7 kB)\n",
      "Collecting numpy<1.19.0,>=1.16.0\n",
      "  Downloading numpy-1.18.5-cp36-cp36m-manylinux1_x86_64.whl (20.1 MB)\n",
      "\u001b[K     |████████████████████████████████| 20.1 MB 4.6 MB/s eta 0:00:01\n",
      "\u001b[?25hCollecting opt-einsum>=2.3.2\n",
      "  Using cached opt_einsum-3.3.0-py3-none-any.whl (65 kB)\n",
      "Collecting keras-preprocessing<1.2,>=1.1.1\n",
      "  Using cached Keras_Preprocessing-1.1.2-py2.py3-none-any.whl (42 kB)\n",
      "Requirement already satisfied: six>=1.12.0 in /home/aneesh/Documents/work/barix/lib/python3.6/site-packages (from tensorflow) (1.15.0)\n",
      "Processing /home/aneesh/.cache/pip/wheels/93/2a/eb/e58dbcbc963549ee4f065ff80a59f274cc7210b6eab962acdc/termcolor-1.1.0-py3-none-any.whl\n",
      "Requirement already satisfied: setuptools in /home/aneesh/Documents/work/barix/lib/python3.6/site-packages (from protobuf>=3.9.2->tensorflow) (39.0.1)\n",
      "Collecting tensorboard-plugin-wit>=1.6.0\n",
      "  Using cached tensorboard_plugin_wit-1.7.0-py3-none-any.whl (779 kB)\n",
      "Collecting google-auth<2,>=1.6.3\n",
      "  Downloading google_auth-1.22.1-py2.py3-none-any.whl (114 kB)\n",
      "\u001b[K     |████████████████████████████████| 114 kB 4.1 MB/s eta 0:00:01\n",
      "\u001b[?25hCollecting werkzeug>=0.11.15\n",
      "  Using cached Werkzeug-1.0.1-py2.py3-none-any.whl (298 kB)\n",
      "Collecting google-auth-oauthlib<0.5,>=0.4.1\n",
      "  Using cached google_auth_oauthlib-0.4.1-py2.py3-none-any.whl (18 kB)\n",
      "Collecting requests<3,>=2.21.0\n",
      "  Using cached requests-2.24.0-py2.py3-none-any.whl (61 kB)\n",
      "Collecting markdown>=2.6.8\n",
      "  Using cached Markdown-3.2.2-py3-none-any.whl (88 kB)\n",
      "Collecting pyasn1-modules>=0.2.1\n",
      "  Using cached pyasn1_modules-0.2.8-py2.py3-none-any.whl (155 kB)\n",
      "Collecting rsa<5,>=3.1.4; python_version >= \"3.5\"\n",
      "  Using cached rsa-4.6-py3-none-any.whl (47 kB)\n",
      "Collecting cachetools<5.0,>=2.0.0\n",
      "  Using cached cachetools-4.1.1-py3-none-any.whl (10 kB)\n",
      "Collecting requests-oauthlib>=0.7.0\n",
      "  Using cached requests_oauthlib-1.3.0-py2.py3-none-any.whl (23 kB)\n",
      "Collecting urllib3!=1.25.0,!=1.25.1,<1.26,>=1.21.1\n",
      "  Using cached urllib3-1.25.10-py2.py3-none-any.whl (127 kB)\n",
      "Collecting certifi>=2017.4.17\n",
      "  Using cached certifi-2020.6.20-py2.py3-none-any.whl (156 kB)\n",
      "Collecting chardet<4,>=3.0.2\n",
      "  Using cached chardet-3.0.4-py2.py3-none-any.whl (133 kB)\n",
      "Collecting idna<3,>=2.5\n",
      "  Using cached idna-2.10-py2.py3-none-any.whl (58 kB)\n",
      "Requirement already satisfied: importlib-metadata; python_version < \"3.8\" in /home/aneesh/Documents/work/barix/lib/python3.6/site-packages (from markdown>=2.6.8->tensorboard<3,>=2.3.0->tensorflow) (2.0.0)\n",
      "Collecting pyasn1<0.5.0,>=0.4.6\n",
      "  Using cached pyasn1-0.4.8-py2.py3-none-any.whl (77 kB)\n",
      "Collecting oauthlib>=3.0.0\n",
      "  Using cached oauthlib-3.1.0-py2.py3-none-any.whl (147 kB)\n",
      "Requirement already satisfied: zipp>=0.5 in /home/aneesh/Documents/work/barix/lib/python3.6/site-packages (from importlib-metadata; python_version < \"3.8\"->markdown>=2.6.8->tensorboard<3,>=2.3.0->tensorflow) (3.3.0)\n",
      "Installing collected packages: tensorflow-estimator, protobuf, wrapt, absl-py, tensorboard-plugin-wit, numpy, pyasn1, pyasn1-modules, rsa, cachetools, google-auth, werkzeug, grpcio, urllib3, certifi, chardet, idna, requests, oauthlib, requests-oauthlib, google-auth-oauthlib, wheel, markdown, tensorboard, google-pasta, astunparse, gast, opt-einsum, keras-preprocessing, termcolor, tensorflow\n",
      "  Attempting uninstall: numpy\n",
      "    Found existing installation: numpy 1.19.2\n",
      "    Uninstalling numpy-1.19.2:\n",
      "      Successfully uninstalled numpy-1.19.2\n",
      "\u001b[31mERROR: After October 2020 you may experience errors when installing or updating packages. This is because pip will change the way that it resolves dependency conflicts.\n",
      "\n",
      "We recommend you use --use-feature=2020-resolver to test your packages with the new resolver before it becomes the default.\n",
      "\n",
      "google-auth 1.22.1 requires setuptools>=40.3.0, but you'll have setuptools 39.0.1 which is incompatible.\n",
      "tensorboard 2.3.0 requires setuptools>=41.0.0, but you'll have setuptools 39.0.1 which is incompatible.\u001b[0m\n",
      "Successfully installed absl-py-0.10.0 astunparse-1.6.3 cachetools-4.1.1 certifi-2020.6.20 chardet-3.0.4 gast-0.3.3 google-auth-1.22.1 google-auth-oauthlib-0.4.1 google-pasta-0.2.0 grpcio-1.32.0 idna-2.10 keras-preprocessing-1.1.2 markdown-3.2.2 numpy-1.18.5 oauthlib-3.1.0 opt-einsum-3.3.0 protobuf-3.13.0 pyasn1-0.4.8 pyasn1-modules-0.2.8 requests-2.24.0 requests-oauthlib-1.3.0 rsa-4.6 tensorboard-2.3.0 tensorboard-plugin-wit-1.7.0 tensorflow-2.3.1 tensorflow-estimator-2.3.0 termcolor-1.1.0 urllib3-1.25.10 werkzeug-1.0.1 wheel-0.35.1 wrapt-1.12.1\n",
      "Note: you may need to restart the kernel to use updated packages.\n"
     ]
    }
   ],
   "source": [
    "pip install tensorflow"
   ]
  },
  {
   "cell_type": "code",
   "execution_count": 6,
   "metadata": {
    "ExecuteTime": {
     "end_time": "2020-10-06T12:22:58.685276Z",
     "start_time": "2020-10-06T12:22:55.954140Z"
    },
    "colab": {
     "base_uri": "https://localhost:8080/",
     "height": 34
    },
    "colab_type": "code",
    "id": "UDbtZ-GaXEXS",
    "outputId": "50df72f3-2b7e-45b7-ea23-80e5aaca1743"
   },
   "outputs": [
    {
     "data": {
      "text/plain": [
       "((7895, 10), (837, 10))"
      ]
     },
     "execution_count": 6,
     "metadata": {},
     "output_type": "execute_result"
    }
   ],
   "source": [
    "#converting to one hot\n",
    "from keras.utils.np_utils import to_categorical\n",
    "y_train = to_categorical(y_train, num_classes=10)\n",
    "y_test = to_categorical(y_test, num_classes=10)\n",
    "y_train.shape,y_test.shape"
   ]
  },
  {
   "cell_type": "code",
   "execution_count": 7,
   "metadata": {
    "ExecuteTime": {
     "end_time": "2020-10-06T12:23:18.106623Z",
     "start_time": "2020-10-06T12:23:18.089035Z"
    },
    "colab": {
     "base_uri": "https://localhost:8080/",
     "height": 34
    },
    "colab_type": "code",
    "id": "Q53NwQLeYJSf",
    "outputId": "b4359c57-b041-4e06-e40f-c671eb33a882"
   },
   "outputs": [
    {
     "data": {
      "text/plain": [
       "((7895, 36, 5), (837, 36, 5))"
      ]
     },
     "execution_count": 7,
     "metadata": {},
     "output_type": "execute_result"
    }
   ],
   "source": [
    "#reshaping to 2D \n",
    "x_train=np.reshape(x_train,(x_train.shape[0], 36,5))\n",
    "x_test=np.reshape(x_test,(x_test.shape[0], 36,5))\n",
    "x_train.shape,x_test.shape"
   ]
  },
  {
   "cell_type": "code",
   "execution_count": 8,
   "metadata": {
    "ExecuteTime": {
     "end_time": "2020-10-06T12:23:19.182265Z",
     "start_time": "2020-10-06T12:23:19.169514Z"
    },
    "colab": {},
    "colab_type": "code",
    "id": "15K2y9sUgn_L"
   },
   "outputs": [],
   "source": [
    "#reshaping to shape required by CNN\n",
    "x_train=np.reshape(x_train,(x_train.shape[0], 36,5,1))\n",
    "x_test=np.reshape(x_test,(x_test.shape[0], 36,5,1))"
   ]
  },
  {
   "cell_type": "code",
   "execution_count": 9,
   "metadata": {
    "ExecuteTime": {
     "end_time": "2020-10-06T12:23:21.719594Z",
     "start_time": "2020-10-06T12:23:21.705416Z"
    },
    "colab": {
     "base_uri": "https://localhost:8080/",
     "height": 34
    },
    "colab_type": "code",
    "id": "CgeQAvcdgtwn",
    "outputId": "fb3d635b-1da0-4c3d-f17f-50c9619cf9da"
   },
   "outputs": [
    {
     "data": {
      "text/plain": [
       "((7895, 36, 5, 1), (837, 36, 5, 1))"
      ]
     },
     "execution_count": 9,
     "metadata": {},
     "output_type": "execute_result"
    }
   ],
   "source": [
    "#shapes\n",
    "x_train.shape,x_test.shape"
   ]
  },
  {
   "cell_type": "code",
   "execution_count": 10,
   "metadata": {
    "ExecuteTime": {
     "end_time": "2020-10-06T12:23:22.090870Z",
     "start_time": "2020-10-06T12:23:22.081916Z"
    },
    "colab": {},
    "colab_type": "code",
    "id": "3bQ2gHc8f9n4"
   },
   "outputs": [],
   "source": [
    "from keras import Sequential\n",
    "from keras.layers import Dense,Conv2D,MaxPooling2D,Flatten,Dropout"
   ]
  },
  {
   "cell_type": "code",
   "execution_count": 15,
   "metadata": {
    "ExecuteTime": {
     "end_time": "2020-10-06T12:23:44.147868Z",
     "start_time": "2020-10-06T12:23:44.130500Z"
    },
    "colab": {},
    "colab_type": "code",
    "id": "SyjNa0N0gGlY"
   },
   "outputs": [],
   "source": [
    "#forming model\n",
    "model=Sequential()"
   ]
  },
  {
   "cell_type": "code",
   "execution_count": 16,
   "metadata": {
    "ExecuteTime": {
     "end_time": "2020-10-06T12:23:44.969990Z",
     "start_time": "2020-10-06T12:23:44.828832Z"
    },
    "colab": {},
    "colab_type": "code",
    "id": "fUJUiyVTgkGZ"
   },
   "outputs": [],
   "source": [
    "#adding layers and forming the model\n",
    "model.add(Conv2D(64,kernel_size=5,strides=1,padding=\"Same\",activation=\"relu\",input_shape=(36,5,1)))\n",
    "model.add(MaxPooling2D(padding=\"same\"))\n",
    "\n",
    "model.add(Conv2D(128,kernel_size=5,strides=1,padding=\"same\",activation=\"relu\"))\n",
    "model.add(MaxPooling2D(padding=\"same\"))\n",
    "model.add(Dropout(0.3))\n",
    "\n",
    "model.add(Flatten())\n",
    "\n",
    "model.add(Dense(256,activation=\"relu\"))\n",
    "model.add(Dropout(0.3))\n",
    "\n",
    "model.add(Dense(512,activation=\"relu\"))\n",
    "model.add(Dropout(0.3))\n",
    "\n",
    "model.add(Dense(10,activation=\"softmax\"))\n",
    "\n"
   ]
  },
  {
   "cell_type": "code",
   "execution_count": 17,
   "metadata": {
    "ExecuteTime": {
     "end_time": "2020-10-06T12:23:45.630562Z",
     "start_time": "2020-10-06T12:23:45.603403Z"
    },
    "colab": {},
    "colab_type": "code",
    "id": "ZHek_bnng3xp"
   },
   "outputs": [],
   "source": [
    "#compiling\n",
    "model.compile(optimizer=\"adam\",loss=\"categorical_crossentropy\",metrics=[\"accuracy\"])"
   ]
  },
  {
   "cell_type": "code",
   "execution_count": 18,
   "metadata": {
    "ExecuteTime": {
     "end_time": "2020-10-06T12:29:08.048505Z",
     "start_time": "2020-10-06T12:23:46.207626Z"
    },
    "colab": {
     "base_uri": "https://localhost:8080/",
     "height": 1091
    },
    "colab_type": "code",
    "id": "Hc_E0cTog96t",
    "outputId": "4fb76b2e-08bc-4a38-d574-79490df067f5",
    "tags": []
   },
   "outputs": [
    {
     "name": "stdout",
     "output_type": "stream",
     "text": [
      "Epoch 1/30\n",
      "158/158 [==============================] - 10s 65ms/step - loss: 2.0218 - accuracy: 0.2909 - val_loss: 1.6095 - val_accuracy: 0.4361\n",
      "Epoch 2/30\n",
      "158/158 [==============================] - 10s 65ms/step - loss: 1.4689 - accuracy: 0.4823 - val_loss: 1.2851 - val_accuracy: 0.5269\n",
      "Epoch 3/30\n",
      "158/158 [==============================] - 10s 66ms/step - loss: 1.1438 - accuracy: 0.6071 - val_loss: 1.1242 - val_accuracy: 0.6272\n",
      "Epoch 4/30\n",
      "158/158 [==============================] - 10s 64ms/step - loss: 0.9654 - accuracy: 0.6730 - val_loss: 1.0236 - val_accuracy: 0.6308\n",
      "Epoch 5/30\n",
      "158/158 [==============================] - 10s 65ms/step - loss: 0.8365 - accuracy: 0.7253 - val_loss: 1.0783 - val_accuracy: 0.6404\n",
      "Epoch 6/30\n",
      "158/158 [==============================] - 10s 65ms/step - loss: 0.6923 - accuracy: 0.7710 - val_loss: 0.9507 - val_accuracy: 0.6965\n",
      "Epoch 7/30\n",
      "158/158 [==============================] - 10s 66ms/step - loss: 0.6568 - accuracy: 0.7839 - val_loss: 0.9858 - val_accuracy: 0.6858\n",
      "Epoch 8/30\n",
      "158/158 [==============================] - 11s 67ms/step - loss: 0.5912 - accuracy: 0.8043 - val_loss: 1.0394 - val_accuracy: 0.6762\n",
      "Epoch 9/30\n",
      "158/158 [==============================] - 11s 67ms/step - loss: 0.5477 - accuracy: 0.8210 - val_loss: 1.0727 - val_accuracy: 0.6655\n",
      "Epoch 10/30\n",
      "158/158 [==============================] - 11s 67ms/step - loss: 0.5098 - accuracy: 0.8294 - val_loss: 1.0032 - val_accuracy: 0.7085\n",
      "Epoch 11/30\n",
      "158/158 [==============================] - 11s 66ms/step - loss: 0.4725 - accuracy: 0.8428 - val_loss: 1.0054 - val_accuracy: 0.6930\n",
      "Epoch 12/30\n",
      "158/158 [==============================] - 11s 70ms/step - loss: 0.4731 - accuracy: 0.8464 - val_loss: 1.1572 - val_accuracy: 0.6858\n",
      "Epoch 13/30\n",
      "158/158 [==============================] - 11s 69ms/step - loss: 0.4261 - accuracy: 0.8605 - val_loss: 0.9997 - val_accuracy: 0.7073\n",
      "Epoch 14/30\n",
      "158/158 [==============================] - 11s 67ms/step - loss: 0.4174 - accuracy: 0.8656 - val_loss: 1.0595 - val_accuracy: 0.6679\n",
      "Epoch 15/30\n",
      "158/158 [==============================] - 11s 68ms/step - loss: 0.4165 - accuracy: 0.8708 - val_loss: 1.1057 - val_accuracy: 0.6953\n",
      "Epoch 16/30\n",
      "158/158 [==============================] - 11s 66ms/step - loss: 0.4032 - accuracy: 0.8692 - val_loss: 1.2018 - val_accuracy: 0.6726\n",
      "Epoch 17/30\n",
      "158/158 [==============================] - 11s 67ms/step - loss: 0.3671 - accuracy: 0.8784 - val_loss: 1.1621 - val_accuracy: 0.6643\n",
      "Epoch 18/30\n",
      "158/158 [==============================] - 11s 68ms/step - loss: 0.3478 - accuracy: 0.8855 - val_loss: 1.1359 - val_accuracy: 0.6989\n",
      "Epoch 19/30\n",
      "158/158 [==============================] - 11s 67ms/step - loss: 0.3232 - accuracy: 0.8983 - val_loss: 1.1577 - val_accuracy: 0.6894\n",
      "Epoch 20/30\n",
      "158/158 [==============================] - 11s 69ms/step - loss: 0.3398 - accuracy: 0.8939 - val_loss: 1.0062 - val_accuracy: 0.7049\n",
      "Epoch 21/30\n",
      "158/158 [==============================] - 11s 68ms/step - loss: 0.3204 - accuracy: 0.8973 - val_loss: 1.2207 - val_accuracy: 0.6834\n",
      "Epoch 22/30\n",
      "158/158 [==============================] - 11s 71ms/step - loss: 0.2959 - accuracy: 0.9031 - val_loss: 1.0838 - val_accuracy: 0.6559\n",
      "Epoch 23/30\n",
      "158/158 [==============================] - 11s 68ms/step - loss: 0.2904 - accuracy: 0.9064 - val_loss: 1.0806 - val_accuracy: 0.6930\n",
      "Epoch 24/30\n",
      "158/158 [==============================] - 11s 68ms/step - loss: 0.2987 - accuracy: 0.9037 - val_loss: 1.4115 - val_accuracy: 0.6655\n",
      "Epoch 25/30\n",
      "158/158 [==============================] - 11s 67ms/step - loss: 0.2828 - accuracy: 0.9054 - val_loss: 1.2328 - val_accuracy: 0.6726\n",
      "Epoch 26/30\n",
      "158/158 [==============================] - 11s 67ms/step - loss: 0.3210 - accuracy: 0.9018 - val_loss: 1.2436 - val_accuracy: 0.6523\n",
      "Epoch 27/30\n",
      "158/158 [==============================] - 11s 69ms/step - loss: 0.2698 - accuracy: 0.9093 - val_loss: 1.1650 - val_accuracy: 0.6834\n",
      "Epoch 28/30\n",
      "158/158 [==============================] - 11s 69ms/step - loss: 0.2446 - accuracy: 0.9217 - val_loss: 1.2873 - val_accuracy: 0.6977\n",
      "Epoch 29/30\n",
      "158/158 [==============================] - 11s 69ms/step - loss: 0.2541 - accuracy: 0.9120 - val_loss: 0.9517 - val_accuracy: 0.7252\n",
      "Epoch 30/30\n",
      "158/158 [==============================] - 11s 68ms/step - loss: 0.2533 - accuracy: 0.9154 - val_loss: 1.2296 - val_accuracy: 0.6894\n"
     ]
    },
    {
     "data": {
      "text/plain": [
       "<tensorflow.python.keras.callbacks.History at 0x7fb8a019cf98>"
      ]
     },
     "execution_count": 18,
     "metadata": {},
     "output_type": "execute_result"
    }
   ],
   "source": [
    "#training the model\n",
    "model.fit(x_train,y_train,batch_size=50,epochs=30,validation_data=(x_test,y_test))"
   ]
  },
  {
   "cell_type": "code",
   "execution_count": 52,
   "metadata": {
    "ExecuteTime": {
     "end_time": "2020-10-06T14:20:47.744976Z",
     "start_time": "2020-10-06T14:20:47.706527Z"
    }
   },
   "outputs": [],
   "source": [
    "model.save_weights('saved_model.ckpt')"
   ]
  },
  {
   "cell_type": "code",
   "execution_count": 19,
   "metadata": {
    "ExecuteTime": {
     "end_time": "2020-10-06T12:29:19.261900Z",
     "start_time": "2020-10-06T12:29:15.833676Z"
    },
    "colab": {
     "base_uri": "https://localhost:8080/",
     "height": 85
    },
    "colab_type": "code",
    "id": "N1Rp9FTYhBpZ",
    "outputId": "8ac2e5be-314a-4284-ea31-ddbfeda1d4de"
   },
   "outputs": [
    {
     "name": "stdout",
     "output_type": "stream",
     "text": [
      "247/247 [==============================] - 3s 12ms/step - loss: 0.0953 - accuracy: 0.9700\n",
      "27/27 [==============================] - 0s 13ms/step - loss: 1.2296 - accuracy: 0.6894\n",
      "[0.09533220529556274, 0.9699810147285461]\n",
      "[1.2295829057693481, 0.6893667578697205]\n"
     ]
    }
   ],
   "source": [
    "#train and test loss and scores respectively\n",
    "train_loss_score=model.evaluate(x_train,y_train)\n",
    "test_loss_score=model.evaluate(x_test,y_test)\n",
    "print(train_loss_score)\n",
    "print(test_loss_score)"
   ]
  },
  {
   "cell_type": "code",
   "execution_count": 37,
   "metadata": {
    "ExecuteTime": {
     "end_time": "2020-10-06T12:38:30.327293Z",
     "start_time": "2020-10-06T12:38:30.312063Z"
    }
   },
   "outputs": [
    {
     "data": {
      "text/plain": [
       "array([1, 1, 1, 1, 1, 3, 3, 3, 3, 2, 2, 2, 2, 2, 2, 2, 2, 3, 3, 5, 5, 5,\n",
       "       5, 5, 5, 5, 5, 5, 5, 5, 5, 5, 5, 5, 5, 5, 5, 5, 5, 5, 5, 5, 5, 5,\n",
       "       5, 5, 5, 5, 5, 5, 5, 5, 5, 5, 5, 5, 5, 5, 9, 9, 9, 9, 9, 9, 9, 9,\n",
       "       9, 9, 9, 9, 9, 3, 3, 9, 9, 9, 9, 9, 9, 4, 4, 4, 4, 4, 4, 4, 4, 4,\n",
       "       4, 4, 4, 4, 4, 5, 5, 5, 5, 5, 5, 5, 5, 5, 5, 0, 0, 0, 3, 3, 3, 3,\n",
       "       3, 3, 3, 3, 2, 2, 2, 2, 2, 2, 2, 2, 9, 9, 9, 9, 9, 9, 9, 9, 9, 9,\n",
       "       9, 9, 5, 5, 3, 3, 3, 3, 3, 2, 2, 2, 2, 2, 2, 2, 2, 4, 9, 9, 9, 9,\n",
       "       9, 9, 9, 9, 9, 9, 9, 9, 2, 2, 2, 2, 2, 2, 2, 2, 2, 2, 2, 2, 2, 2,\n",
       "       2, 2, 3, 5, 5, 5, 5, 5, 5, 5, 5, 5, 5, 5, 5, 5, 5, 5, 5, 5, 5, 5,\n",
       "       5, 6, 6, 6, 6, 6, 6, 6, 6, 6, 6, 6, 6, 6, 8, 8, 8, 8, 8, 8, 8, 8,\n",
       "       8, 8, 8, 8, 8, 8, 8, 7, 7, 7, 7, 7, 7, 7, 7, 7, 7, 7, 7, 7, 7, 7,\n",
       "       7, 7, 7, 7, 7, 7, 7, 7, 7, 7, 7, 7, 7, 7, 7, 7, 7, 7, 7, 7, 7, 7,\n",
       "       7, 7, 7, 7, 7, 7, 7, 7, 7, 7, 7, 7, 7, 7, 7, 7, 7, 7, 7, 7, 7, 7,\n",
       "       7, 7, 3, 3, 2, 2, 2, 2, 2, 2, 2, 2, 9, 9, 9, 9, 9, 9, 9, 6, 8, 8,\n",
       "       8, 8, 8, 8, 8, 8, 8, 4, 4, 4, 0, 0, 0, 0, 0, 0, 0, 0, 0, 0, 0, 0,\n",
       "       0, 0, 0, 0, 0, 0, 0, 0, 0, 0, 0, 0, 0, 4, 4, 4, 4, 6, 1, 1, 9, 9,\n",
       "       9, 9, 9, 9, 9, 9, 9, 9, 9, 9, 9, 6, 6, 6, 6, 6, 6, 6, 3, 3, 3, 1,\n",
       "       1, 7, 7, 7, 7, 7, 7, 7, 7, 7, 7, 1, 2, 2, 2, 2, 2, 2, 2, 2, 1, 4,\n",
       "       4, 4, 4, 4, 4, 4, 4, 4, 4, 4, 4, 4, 4, 4, 4, 4, 4, 4, 4, 4, 4, 4,\n",
       "       4, 4, 4, 4, 4, 4, 4, 4, 4, 4, 2, 2, 2, 2, 2, 2, 2, 2, 4, 4, 4, 4,\n",
       "       4, 4, 2, 2, 2, 2, 2, 2, 2, 2, 7, 7, 7, 7, 7, 7, 7, 7, 7, 7, 7, 7,\n",
       "       7, 7, 7, 7, 7, 7, 0, 0, 0, 0, 0, 0, 0, 0, 0, 0, 0, 0, 0, 0, 0, 0,\n",
       "       0, 0, 0, 0, 0, 0, 0, 0, 0, 0, 0, 0, 0, 0, 0, 0, 4, 4, 2, 2, 2, 2,\n",
       "       2, 3, 3, 3, 3, 2, 2, 2, 2, 2, 2, 2, 2, 3, 3, 3, 3, 6, 6, 6, 6, 6,\n",
       "       6, 5, 5, 5, 5, 5, 5, 5, 9, 9, 9, 9, 9, 9, 9, 9, 9, 9, 9, 9, 6, 3,\n",
       "       3, 2, 2, 2, 2, 2, 2, 2, 2, 8, 8, 8, 8, 3, 3, 3, 3, 3, 3, 3, 5, 1,\n",
       "       1, 6, 6, 8, 3, 3, 3, 3, 4, 4, 2, 2, 2, 2, 2, 2, 2, 1, 1, 1, 1, 1,\n",
       "       1, 1, 1, 1, 1, 1, 1, 1, 1, 1, 3, 3, 3, 3, 7, 7, 7, 7, 7, 7, 7, 3,\n",
       "       5, 5, 5, 5, 5, 5, 5, 5, 5, 5, 5, 5, 5, 5, 3, 3, 3, 3, 3, 3, 3, 1,\n",
       "       1, 1, 3, 3, 3, 3, 1, 1, 3, 3, 3, 6, 3, 3, 3, 3, 3, 3, 3, 3, 3, 3,\n",
       "       3, 3, 0, 0, 0, 0, 0, 0, 0, 0, 0, 0, 0, 0, 0, 0, 0, 0, 0, 0, 0, 0,\n",
       "       0, 0, 0, 0, 0, 0, 8, 8, 8, 8, 8, 8, 8, 8, 8, 8, 8, 8, 8, 8, 8, 8,\n",
       "       8, 8, 8, 8, 8, 8, 8, 8, 8, 8, 8, 8, 4, 4, 4, 4, 4, 4, 4, 4, 9, 9,\n",
       "       9, 9, 9, 9, 9, 3, 3, 3, 3, 3, 3, 3, 3, 3, 3, 3, 3, 3, 3, 3, 9, 9,\n",
       "       9, 9, 9, 9, 9, 9, 9, 9, 9, 9, 0, 0, 0, 0, 0, 0, 0, 0, 0, 0, 0, 0,\n",
       "       0, 0, 9, 9, 9, 9, 9, 9, 3, 3, 3, 3, 3, 8, 8, 8, 8, 8, 8, 8, 8, 8,\n",
       "       8, 8, 8, 8, 8, 8, 8, 8, 8, 8, 8, 8, 8, 8, 8, 8, 8, 3, 4, 4, 4, 4,\n",
       "       4, 4, 4, 4, 4, 4, 4, 4, 4, 4, 4, 4, 4, 4, 4, 4, 4, 4, 4, 4, 4, 4,\n",
       "       4])"
      ]
     },
     "execution_count": 37,
     "metadata": {},
     "output_type": "execute_result"
    }
   ],
   "source": []
  },
  {
   "cell_type": "code",
   "execution_count": 25,
   "metadata": {
    "ExecuteTime": {
     "end_time": "2020-10-06T12:33:46.187161Z",
     "start_time": "2020-10-06T12:33:45.953468Z"
    }
   },
   "outputs": [],
   "source": [
    "classes = model.predict_classes(x_test)\n",
    "probabiltiy = model.predict(x_test)"
   ]
  },
  {
   "cell_type": "code",
   "execution_count": 26,
   "metadata": {
    "ExecuteTime": {
     "end_time": "2020-10-06T12:34:05.557126Z",
     "start_time": "2020-10-06T12:34:05.303417Z"
    }
   },
   "outputs": [],
   "source": []
  },
  {
   "cell_type": "code",
   "execution_count": 50,
   "metadata": {
    "ExecuteTime": {
     "end_time": "2020-10-06T12:44:13.344985Z",
     "start_time": "2020-10-06T12:44:13.312277Z"
    }
   },
   "outputs": [
    {
     "name": "stdout",
     "output_type": "stream",
     "text": [
      "accuracy 0.9836065573770492, support : 183\n"
     ]
    }
   ],
   "source": [
    "confidence  = 0.999\n",
    "gt = np.argmax(y_test, axis=1)\n",
    "high_confidence_index = (probabiltiy[np.arange(837),classes.squeeze()]>=confidence)\n",
    "support = (sum(high_confidence_index))\n",
    "accuracy_high_index = sum(((classes==gt)*high_confidence_index))/support\n",
    "print(f\"accuracy {accuracy_high_index}, support : {support}\")"
   ]
  },
  {
   "cell_type": "code",
   "execution_count": 42,
   "metadata": {
    "ExecuteTime": {
     "end_time": "2020-10-06T12:40:52.563833Z",
     "start_time": "2020-10-06T12:40:52.552269Z"
    }
   },
   "outputs": [
    {
     "data": {
      "text/plain": [
       "(501, 837)"
      ]
     },
     "execution_count": 42,
     "metadata": {},
     "output_type": "execute_result"
    }
   ],
   "source": []
  },
  {
   "cell_type": "code",
   "execution_count": 43,
   "metadata": {
    "ExecuteTime": {
     "end_time": "2020-10-06T12:41:31.274478Z",
     "start_time": "2020-10-06T12:41:31.256405Z"
    }
   },
   "outputs": [
    {
     "data": {
      "text/plain": [
       "array([9, 9, 4, 3, 3, 3, 3, 3, 3, 3, 3, 3, 2, 2, 3, 3, 3, 9, 2, 5, 5, 5,\n",
       "       5, 5, 5, 5, 5, 5, 5, 5, 5, 5, 5, 5, 5, 5, 5, 5, 5, 5, 5, 5, 5, 5,\n",
       "       5, 5, 5, 5, 5, 5, 3, 9, 3, 5, 0, 5, 5, 5, 9, 2, 9, 9, 2, 9, 8, 9,\n",
       "       9, 9, 9, 9, 2, 3, 3, 9, 9, 9, 9, 9, 9, 8, 8, 8, 3, 8, 8, 8, 8, 8,\n",
       "       8, 8, 8, 8, 8, 2, 2, 2, 5, 5, 5, 2, 2, 5, 5, 0, 0, 0, 3, 3, 3, 3,\n",
       "       3, 2, 3, 3, 3, 3, 3, 3, 3, 3, 3, 3, 2, 2, 2, 9, 9, 9, 5, 9, 5, 9,\n",
       "       9, 9, 5, 5, 9, 3, 3, 3, 3, 2, 2, 2, 2, 2, 2, 2, 2, 4, 2, 9, 0, 2,\n",
       "       9, 9, 9, 9, 1, 9, 9, 9, 2, 2, 2, 2, 2, 2, 2, 2, 2, 2, 2, 2, 2, 2,\n",
       "       2, 2, 3, 3, 4, 3, 3, 3, 3, 3, 5, 3, 3, 3, 5, 8, 8, 5, 4, 4, 8, 8,\n",
       "       8, 6, 6, 6, 6, 6, 6, 6, 6, 6, 6, 6, 6, 6, 3, 3, 8, 8, 8, 8, 8, 3,\n",
       "       3, 8, 8, 8, 8, 8, 8, 7, 7, 7, 7, 7, 7, 6, 6, 7, 7, 7, 7, 7, 7, 7,\n",
       "       7, 7, 7, 7, 7, 7, 7, 7, 7, 7, 7, 7, 7, 7, 7, 7, 7, 7, 7, 7, 7, 7,\n",
       "       7, 7, 7, 7, 7, 6, 7, 4, 4, 7, 7, 7, 7, 7, 6, 7, 7, 4, 6, 7, 7, 7,\n",
       "       7, 7, 3, 3, 2, 2, 2, 2, 2, 2, 2, 2, 9, 9, 9, 9, 9, 9, 9, 6, 8, 8,\n",
       "       8, 8, 8, 8, 8, 8, 8, 4, 4, 4, 2, 2, 2, 8, 9, 9, 2, 2, 2, 2, 2, 2,\n",
       "       2, 2, 2, 2, 2, 2, 2, 2, 2, 2, 2, 2, 2, 6, 4, 7, 2, 6, 0, 1, 2, 2,\n",
       "       2, 2, 2, 2, 2, 9, 9, 9, 9, 2, 9, 6, 6, 6, 6, 6, 6, 6, 3, 3, 3, 7,\n",
       "       1, 7, 7, 7, 7, 7, 7, 7, 7, 7, 7, 1, 2, 2, 2, 2, 2, 2, 2, 2, 1, 4,\n",
       "       4, 0, 0, 4, 4, 0, 0, 0, 0, 0, 0, 4, 0, 0, 4, 4, 4, 4, 4, 4, 0, 4,\n",
       "       4, 4, 4, 4, 4, 4, 4, 4, 4, 4, 2, 2, 2, 2, 2, 2, 2, 8, 4, 9, 1, 4,\n",
       "       4, 4, 8, 8, 8, 8, 3, 8, 8, 8, 4, 4, 4, 4, 4, 4, 4, 4, 4, 4, 4, 7,\n",
       "       7, 7, 4, 7, 4, 4, 0, 0, 0, 0, 0, 0, 0, 0, 0, 0, 0, 0, 0, 0, 0, 0,\n",
       "       0, 0, 0, 0, 0, 0, 0, 0, 0, 0, 0, 0, 0, 0, 0, 0, 4, 4, 2, 2, 2, 2,\n",
       "       2, 3, 3, 3, 3, 2, 2, 2, 2, 2, 2, 2, 2, 3, 3, 3, 3, 6, 6, 6, 6, 6,\n",
       "       6, 4, 7, 4, 4, 7, 4, 4, 9, 9, 9, 9, 9, 9, 9, 9, 9, 1, 9, 9, 6, 4,\n",
       "       4, 2, 2, 2, 2, 2, 2, 2, 2, 2, 9, 4, 4, 3, 3, 3, 3, 2, 2, 2, 5, 1,\n",
       "       1, 3, 3, 8, 3, 2, 3, 3, 4, 4, 2, 2, 2, 2, 2, 2, 2, 1, 1, 1, 1, 1,\n",
       "       1, 1, 1, 1, 1, 1, 1, 1, 1, 1, 3, 3, 3, 3, 6, 4, 6, 6, 3, 3, 5, 3,\n",
       "       5, 5, 5, 5, 5, 5, 5, 5, 5, 5, 5, 5, 5, 5, 5, 3, 3, 3, 4, 3, 9, 2,\n",
       "       2, 1, 3, 3, 3, 3, 5, 5, 3, 3, 3, 3, 3, 2, 2, 2, 2, 3, 3, 3, 3, 3,\n",
       "       3, 3, 0, 0, 0, 0, 0, 0, 0, 0, 0, 0, 0, 0, 0, 0, 0, 0, 0, 8, 0, 0,\n",
       "       0, 0, 0, 0, 0, 0, 2, 2, 2, 2, 2, 2, 2, 2, 8, 2, 2, 2, 2, 2, 2, 4,\n",
       "       3, 2, 2, 2, 2, 3, 5, 2, 2, 5, 2, 2, 2, 4, 4, 4, 4, 2, 2, 2, 9, 9,\n",
       "       9, 9, 9, 9, 4, 8, 8, 9, 9, 3, 3, 3, 3, 3, 3, 3, 3, 3, 3, 3, 9, 9,\n",
       "       8, 3, 9, 9, 9, 9, 9, 9, 9, 9, 0, 0, 4, 9, 9, 4, 7, 7, 7, 7, 0, 7,\n",
       "       0, 5, 9, 9, 9, 4, 2, 9, 3, 3, 3, 3, 3, 8, 8, 8, 2, 3, 3, 8, 8, 8,\n",
       "       8, 8, 8, 8, 8, 8, 8, 8, 8, 8, 8, 8, 8, 8, 8, 8, 8, 3, 4, 4, 4, 4,\n",
       "       4, 4, 7, 4, 4, 4, 4, 4, 4, 4, 4, 7, 7, 7, 4, 4, 7, 4, 4, 4, 4, 4,\n",
       "       4])"
      ]
     },
     "execution_count": 43,
     "metadata": {},
     "output_type": "execute_result"
    }
   ],
   "source": [
    "classes"
   ]
  },
  {
   "cell_type": "code",
   "execution_count": null,
   "metadata": {},
   "outputs": [],
   "source": []
  }
 ],
 "metadata": {
  "accelerator": "GPU",
  "colab": {
   "collapsed_sections": [],
   "name": "Urban_cnn_model.ipynb",
   "provenance": [],
   "version": "0.3.2"
  },
  "kernelspec": {
   "display_name": "Python 3",
   "language": "python",
   "name": "python3"
  },
  "language_info": {
   "codemirror_mode": {
    "name": "ipython",
    "version": 3
   },
   "file_extension": ".py",
   "mimetype": "text/x-python",
   "name": "python",
   "nbconvert_exporter": "python",
   "pygments_lexer": "ipython3",
   "version": "3.6.9"
  },
  "toc": {
   "base_numbering": 1,
   "nav_menu": {},
   "number_sections": true,
   "sideBar": true,
   "skip_h1_title": false,
   "title_cell": "Table of Contents",
   "title_sidebar": "Contents",
   "toc_cell": false,
   "toc_position": {},
   "toc_section_display": true,
   "toc_window_display": false
  },
  "varInspector": {
   "cols": {
    "lenName": 16,
    "lenType": 16,
    "lenVar": 40
   },
   "kernels_config": {
    "python": {
     "delete_cmd_postfix": "",
     "delete_cmd_prefix": "del ",
     "library": "var_list.py",
     "varRefreshCmd": "print(var_dic_list())"
    },
    "r": {
     "delete_cmd_postfix": ") ",
     "delete_cmd_prefix": "rm(",
     "library": "var_list.r",
     "varRefreshCmd": "cat(var_dic_list()) "
    }
   },
   "types_to_exclude": [
    "module",
    "function",
    "builtin_function_or_method",
    "instance",
    "_Feature"
   ],
   "window_display": false
  }
 },
 "nbformat": 4,
 "nbformat_minor": 1
}
