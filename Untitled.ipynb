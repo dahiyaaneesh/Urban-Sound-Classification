{
 "cells": [
  {
   "cell_type": "code",
   "execution_count": 93,
   "metadata": {
    "ExecuteTime": {
     "end_time": "2020-10-06T15:04:25.799122Z",
     "start_time": "2020-10-06T15:04:25.782626Z"
    }
   },
   "outputs": [],
   "source": [
    "import pandas as pd\n",
    "from tqdm.notebook import tqdm\n",
    "import os\n",
    "import librosa\n",
    "import numpy as np\n",
    "from keras import Sequential\n",
    "from keras.layers import Dense, Conv2D, MaxPooling2D, Flatten, Dropout\n",
    "import IPython.display as ipd\n",
    "from ipywidgets import interact, interactive, fixed, interact_manual\n",
    "import ipywidgets as widgets"
   ]
  },
  {
   "cell_type": "code",
   "execution_count": 108,
   "metadata": {
    "ExecuteTime": {
     "end_time": "2020-10-06T15:27:28.960969Z",
     "start_time": "2020-10-06T15:27:28.138794Z"
    }
   },
   "outputs": [],
   "source": [
    "BASE_PATH = \"/media/aneesh/USB1000/Zurich_Urban_Sounds\"\n",
    "RECORDER = \"TASCAM_RECORDER\"\n",
    "SEGMENT_DIR = \"audio_segments\"\n",
    "filenames = [\n",
    "    f for f in os.listdir(os.path.join(BASE_PATH, RECORDER, SEGMENT_DIR)) if \".wav\" in f\n",
    "]\n",
    "silence = []\n",
    "classification = []\n",
    "confidence = []"
   ]
  },
  {
   "cell_type": "code",
   "execution_count": 111,
   "metadata": {
    "ExecuteTime": {
     "end_time": "2020-10-06T15:27:54.129431Z",
     "start_time": "2020-10-06T15:27:54.124486Z"
    }
   },
   "outputs": [
    {
     "data": {
      "text/plain": [
       "59228"
      ]
     },
     "execution_count": 111,
     "metadata": {},
     "output_type": "execute_result"
    }
   ],
   "source": [
    "len(filenames)"
   ]
  },
  {
   "cell_type": "code",
   "execution_count": 107,
   "metadata": {
    "ExecuteTime": {
     "end_time": "2020-10-06T15:22:44.609173Z",
     "start_time": "2020-10-06T15:22:44.598448Z"
    }
   },
   "outputs": [
    {
     "name": "stdout",
     "output_type": "stream",
     "text": [
      "Number of processors:  8\n"
     ]
    }
   ],
   "source": [
    "import multiprocessing as mp\n",
    "print(\"Number of processors: \", mp.cpu_count())"
   ]
  },
  {
   "cell_type": "code",
   "execution_count": 95,
   "metadata": {
    "ExecuteTime": {
     "end_time": "2020-10-06T15:08:09.209046Z",
     "start_time": "2020-10-06T15:08:09.205562Z"
    }
   },
   "outputs": [],
   "source": [
    "class_mapping = {\n",
    "    3: \"dog_bark\",\n",
    "    2: \"children_playing\",\n",
    "    1: \"car_horn\",\n",
    "    0: \"air_conditioner\",\n",
    "    9: \"street_music\",\n",
    "    6: \"gun_shot\",\n",
    "    8: \"siren\",\n",
    "    5: \"engine_idling\",\n",
    "    7: \"jackhammer\",\n",
    "    4: \"drilling\",\n",
    "}"
   ]
  },
  {
   "cell_type": "code",
   "execution_count": 35,
   "metadata": {
    "ExecuteTime": {
     "end_time": "2020-10-06T14:21:41.447804Z",
     "start_time": "2020-10-06T14:21:41.425631Z"
    }
   },
   "outputs": [],
   "source": [
    "def get_model():\n",
    "    model = Sequential()\n",
    "    model.add(\n",
    "        Conv2D(\n",
    "            64,\n",
    "            kernel_size=5,\n",
    "            strides=1,\n",
    "            padding=\"Same\",\n",
    "            activation=\"relu\",\n",
    "            input_shape=(36, 5, 1),\n",
    "        )\n",
    "    )\n",
    "    model.add(MaxPooling2D(padding=\"same\"))\n",
    "    model.add(Conv2D(128, kernel_size=5, strides=1, padding=\"same\", activation=\"relu\"))\n",
    "    model.add(MaxPooling2D(padding=\"same\"))\n",
    "    model.add(Dropout(0.3))\n",
    "    model.add(Flatten())\n",
    "    model.add(Dense(256, activation=\"relu\"))\n",
    "    model.add(Dropout(0.3))\n",
    "    model.add(Dense(512, activation=\"relu\"))\n",
    "    model.add(Dropout(0.3))\n",
    "    model.add(Dense(10, activation=\"softmax\"))\n",
    "    model.compile(\n",
    "        optimizer=\"adam\", loss=\"categorical_crossentropy\", metrics=[\"accuracy\"]\n",
    "    )\n",
    "    model.load_weights(\"saved_model\")\n",
    "    return model\n",
    "\n",
    "\n",
    "model = get_model()\n",
    "\n",
    "\n",
    "def get_features(base_path, recorder, segment_dir, filename):\n",
    "    y, sr = librosa.load(os.path.join(base_path, recorder, segment_dir, filename))\n",
    "    mfccs = np.mean(librosa.feature.mfcc(y, sr, n_mfcc=36).T, axis=0)\n",
    "    melspectrogram = np.mean(\n",
    "        librosa.feature.melspectrogram(y=y, sr=sr, n_mels=36, fmax=8000).T, axis=0\n",
    "    )\n",
    "    chroma_stft = np.mean(\n",
    "        librosa.feature.chroma_stft(y=y, sr=sr, n_chroma=36).T, axis=0\n",
    "    )\n",
    "    chroma_cq = np.mean(librosa.feature.chroma_cqt(y=y, sr=sr, n_chroma=36).T, axis=0)\n",
    "    chroma_cens = np.mean(\n",
    "        librosa.feature.chroma_cens(y=y, sr=sr, n_chroma=36).T, axis=0\n",
    "    )\n",
    "    melspectrogram.shape, chroma_stft.shape, chroma_cq.shape, chroma_cens.shape, mfccs.shape\n",
    "    features = np.reshape(\n",
    "        np.vstack((mfccs, melspectrogram, chroma_stft, chroma_cq, chroma_cens)), (36, 5)\n",
    "    )\n",
    "    return features"
   ]
  },
  {
   "cell_type": "code",
   "execution_count": null,
   "metadata": {},
   "outputs": [],
   "source": []
  },
  {
   "cell_type": "code",
   "execution_count": 72,
   "metadata": {
    "ExecuteTime": {
     "end_time": "2020-10-06T14:45:10.923163Z",
     "start_time": "2020-10-06T14:45:09.828476Z"
    }
   },
   "outputs": [],
   "source": [
    "temp = get_features(BASE_PATH, RECORDER, SEGMENT_DIR, filenames[0])\n",
    "\n",
    "\n",
    "def analyse(features):\n",
    "    prob = model.predict(features.reshape(-1, 36, 5, 1))\n",
    "    category = np.argmax(prob)\n",
    "    conf = prob[:, category].squeeze()\n",
    "    #     if len(conf)==1:\n",
    "    #         conf =conf[0]\n",
    "    return category, conf"
   ]
  },
  {
   "cell_type": "code",
   "execution_count": 74,
   "metadata": {
    "ExecuteTime": {
     "end_time": "2020-10-06T14:45:48.393969Z",
     "start_time": "2020-10-06T14:45:48.339182Z"
    }
   },
   "outputs": [],
   "source": [
    "filenames = [\n",
    "    f for f in os.listdir(os.path.join(BASE_PATH, RECORDER, SEGMENT_DIR)) if \".wav\" in f\n",
    "]\n",
    "silence = []\n",
    "classification = []\n",
    "confidence = []"
   ]
  },
  {
   "cell_type": "code",
   "execution_count": 75,
   "metadata": {
    "ExecuteTime": {
     "end_time": "2020-10-06T14:47:25.592824Z",
     "start_time": "2020-10-06T14:45:49.301850Z"
    }
   },
   "outputs": [
    {
     "data": {
      "application/vnd.jupyter.widget-view+json": {
       "model_id": "a5afa268b06c4f688fcbfbb7ad9cffe4",
       "version_major": 2,
       "version_minor": 0
      },
      "text/plain": [
       "HBox(children=(HTML(value=''), FloatProgress(value=0.0), HTML(value='')))"
      ]
     },
     "metadata": {},
     "output_type": "display_data"
    },
    {
     "name": "stdout",
     "output_type": "stream",
     "text": [
      "\n"
     ]
    }
   ],
   "source": [
    "for i in tqdm(range(100)):\n",
    "    file = filenames[i]\n",
    "    features = get_features(BASE_PATH, RECORDER, SEGMENT_DIR, file)\n",
    "    category, conf = analyse(features)\n",
    "    confidence.append(conf)\n",
    "    classification.append(category)"
   ]
  },
  {
   "cell_type": "code",
   "execution_count": 88,
   "metadata": {
    "ExecuteTime": {
     "end_time": "2020-10-06T14:59:04.278066Z",
     "start_time": "2020-10-06T14:59:04.269403Z"
    }
   },
   "outputs": [
    {
     "data": {
      "text/plain": [
       "array([[5],\n",
       "       [9],\n",
       "       [5],\n",
       "       [5],\n",
       "       [5],\n",
       "       [5],\n",
       "       [5]])"
      ]
     },
     "execution_count": 88,
     "metadata": {},
     "output_type": "execute_result"
    }
   ],
   "source": [
    "high_confidence_index = np.argwhere(np.array(confidence) > 0.8)\n",
    "np.array(filenames[:100])[high_confidence_index]\n",
    "np.array(classification)[high_confidence_index]"
   ]
  },
  {
   "cell_type": "code",
   "execution_count": 106,
   "metadata": {
    "ExecuteTime": {
     "end_time": "2020-10-06T15:15:50.001816Z",
     "start_time": "2020-10-06T15:15:49.539867Z"
    }
   },
   "outputs": [
    {
     "data": {
      "application/vnd.jupyter.widget-view+json": {
       "model_id": "18977cfafe9d458b8ec327886219dd0f",
       "version_major": 2,
       "version_minor": 0
      },
      "text/plain": [
       "interactive(children=(Dropdown(description='indx', options=(0, 1, 2, 3, 4, 5, 6), value=0), Output()), _dom_cl…"
      ]
     },
     "metadata": {},
     "output_type": "display_data"
    }
   ],
   "source": [
    "@interact()\n",
    "def visualize_high_confidence(indx=[i for i in range(len(high_confidence_index))]):\n",
    "    idx = high_confidence_index[indx][0]\n",
    "    print(idx)\n",
    "    filename = filenames[idx]\n",
    "    print(filename)\n",
    "    category = class_mapping[classification[idx]]\n",
    "    conf = confidence[idx]\n",
    "    print(f\"category : {category}, confidence :{conf}\")\n",
    "    display(ipd.Audio(os.path.join(BASE_PATH, RECORDER,SEGMENT_DIR,filename)))"
   ]
  },
  {
   "cell_type": "code",
   "execution_count": null,
   "metadata": {},
   "outputs": [],
   "source": []
  }
 ],
 "metadata": {
  "kernelspec": {
   "display_name": "Python 3",
   "language": "python",
   "name": "python3"
  },
  "language_info": {
   "codemirror_mode": {
    "name": "ipython",
    "version": 3
   },
   "file_extension": ".py",
   "mimetype": "text/x-python",
   "name": "python",
   "nbconvert_exporter": "python",
   "pygments_lexer": "ipython3",
   "version": "3.6.9"
  },
  "toc": {
   "base_numbering": 1,
   "nav_menu": {},
   "number_sections": true,
   "sideBar": true,
   "skip_h1_title": false,
   "title_cell": "Table of Contents",
   "title_sidebar": "Contents",
   "toc_cell": false,
   "toc_position": {},
   "toc_section_display": true,
   "toc_window_display": false
  },
  "varInspector": {
   "cols": {
    "lenName": 16,
    "lenType": 16,
    "lenVar": 40
   },
   "kernels_config": {
    "python": {
     "delete_cmd_postfix": "",
     "delete_cmd_prefix": "del ",
     "library": "var_list.py",
     "varRefreshCmd": "print(var_dic_list())"
    },
    "r": {
     "delete_cmd_postfix": ") ",
     "delete_cmd_prefix": "rm(",
     "library": "var_list.r",
     "varRefreshCmd": "cat(var_dic_list()) "
    }
   },
   "types_to_exclude": [
    "module",
    "function",
    "builtin_function_or_method",
    "instance",
    "_Feature"
   ],
   "window_display": false
  }
 },
 "nbformat": 4,
 "nbformat_minor": 4
}
